{
 "cells": [
  {
   "cell_type": "markdown",
   "id": "9f04ced1",
   "metadata": {},
   "source": [
    "# Model Evaluation and Visualization\n",
    "\n",
    "This notebook evaluates the trained ASL alphabet recognition model and visualizes its performance using the test dataset. It includes loading the model, evaluating accuracy, and plotting a confusion matrix and classification report."
   ]
  },
  {
   "cell_type": "code",
   "execution_count": null,
   "id": "6ee8d6ec",
   "metadata": {},
   "outputs": [],
   "source": [
    "# Load the trained model and test data\n",
    "import tensorflow as tf\n",
    "import numpy as np\n",
    "import pandas as pd\n",
    "import os\n",
    "from sklearn.metrics import classification_report, confusion_matrix\n",
    "import matplotlib.pyplot as plt\n",
    "import seaborn as sns\n",
    "\n",
    "# Path to model and test data\n",
    "data_dir = '../data/'\n",
    "model_path = '../models/asl_cnn_model.h5'\n",
    "\n",
    "# Load model\n",
    "model = tf.keras.models.load_model(model_path)\n",
    "\n",
    "# Example: Load test data (update as needed for your data structure)\n",
    "# test_images, test_labels = ..."
   ]
  },
  {
   "cell_type": "markdown",
   "id": "ce52a3bb",
   "metadata": {},
   "source": [
    "## Evaluate the Model\n",
    "\n",
    "Evaluate the model on the test set and display accuracy, confusion matrix, and classification report."
   ]
  },
  {
   "cell_type": "code",
   "execution_count": null,
   "id": "c5f2fb6e",
   "metadata": {},
   "outputs": [],
   "source": [
    "# Load test data\n",
    "TEST_DATA_DIR = \"../data/asl_alphabet_test/asl_alphabet_test\"\n",
    "test_images, test_labels = load_dataset(TEST_DATA_DIR)\n",
    "\n",
    "# Preprocess test data\n",
    "test_images = resize_images(test_images)\n",
    "test_images = normalize_images(test_images)\n",
    "test_labels = encode_labels(test_labels)\n",
    "\n",
    "# Evaluate model\n",
    "predictions = model.predict(test_images)\n",
    "y_pred = np.argmax(predictions, axis=1)\n",
    "y_true = test_labels\n",
    "\n",
    "print('Classification Report:')\n",
    "print(classification_report(y_true, y_pred))\n",
    "\n",
    "cm = confusion_matrix(y_true, y_pred)\n",
    "plt.figure(figsize=(12,10))\n",
    "sns.heatmap(cm, annot=True, fmt='d', cmap='Blues')\n",
    "plt.xlabel('Predicted')\n",
    "plt.ylabel('True')\n",
    "plt.title('Confusion Matrix')\n",
    "plt.show()"
   ]
  }
 ],
 "metadata": {
  "kernelspec": {
   "display_name": "base",
   "language": "python",
   "name": "python3"
  },
  "language_info": {
   "name": "python",
   "version": "3.12.7"
  }
 },
 "nbformat": 4,
 "nbformat_minor": 5
}
