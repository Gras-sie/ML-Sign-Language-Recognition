{
 "cells": [
  {
   "cell_type": "markdown",
   "id": "1a80c909",
   "metadata": {},
   "source": [
    "# Training a CNN Model for ASL Detection\n",
    "\n",
    "This notebook demonstrates how to build and train a Convolutional Neural Network (CNN) to classify static ASL signs. The trained model will be used for real-time detection of hand gestures."
   ]
  },
  {
   "cell_type": "markdown",
   "id": "71943279",
   "metadata": {},
   "source": [
    "## Import Required Libraries\n",
    "\n",
    "This code cell imports all the necessary libraries for building and training the CNN model, including TensorFlow/Keras components."
   ]
  },
  {
   "cell_type": "code",
   "execution_count": null,
   "id": "79838535",
   "metadata": {},
   "outputs": [],
   "source": [
    "import os\n",
    "import numpy as np\n",
    "import tensorflow as tf\n",
    "from tensorflow.keras.models import Sequential\n",
    "from tensorflow.keras.layers import Conv2D, MaxPooling2D, Flatten, Dense, Dropout\n",
    "from tensorflow.keras.optimizers import Adam\n",
    "from tensorflow.keras.preprocessing.image import ImageDataGenerator"
   ]
  },
  {
   "cell_type": "markdown",
   "id": "84e912a9",
   "metadata": {},
   "source": [
    "## Define Data Generators Function\n",
    "\n",
    "This function creates training and validation data generators that will automatically load, preprocess, and batch the images for training."
   ]
  },
  {
   "cell_type": "code",
   "execution_count": null,
   "id": "a2c11ba4",
   "metadata": {},
   "outputs": [],
   "source": [
    "def prepare_data_generators(data_dir, target_size=(224, 224), batch_size=32):\n",
    "    \"\"\"\n",
    "    Prepare training and validation data generators.\n",
    "    \n",
    "    Args:\n",
    "        data_dir (str): Path to the dataset directory\n",
    "        target_size (tuple): Target image size for resizing\n",
    "        batch_size (int): Batch size for training\n",
    "        \n",
    "    Returns:\n",
    "        tuple: (train_generator, val_generator)\n",
    "    \"\"\"\n",
    "    datagen = ImageDataGenerator(\n",
    "        rescale=1./255,\n",
    "        validation_split=0.2\n",
    "    )\n",
    "\n",
    "    train_generator = datagen.flow_from_directory(\n",
    "        data_dir,\n",
    "        target_size=target_size,\n",
    "        batch_size=batch_size,\n",
    "        class_mode='categorical',\n",
    "        subset='training'\n",
    "    )\n",
    "\n",
    "    val_generator = datagen.flow_from_directory(\n",
    "        data_dir,\n",
    "        target_size=target_size,\n",
    "        batch_size=batch_size,\n",
    "        class_mode='categorical',\n",
    "        subset='validation'\n",
    "    )\n",
    "\n",
    "    return train_generator, val_generator"
   ]
  },
  {
   "cell_type": "markdown",
   "id": "bbcf648e",
   "metadata": {},
   "source": [
    "## Define CNN Architecture\n",
    "\n",
    "This function creates the Convolutional Neural Network architecture with multiple convolutional layers, pooling layers, and dropout for regularization."
   ]
  },
  {
   "cell_type": "code",
   "execution_count": null,
   "id": "b09e15fa",
   "metadata": {},
   "outputs": [],
   "source": [
    "def create_cnn_model(input_shape=(224, 224, 3), num_classes=26):\n",
    "    \"\"\"\n",
    "    Create a CNN model for ASL classification.\n",
    "    \n",
    "    Args:\n",
    "        input_shape (tuple): Shape of input images\n",
    "        num_classes (int): Number of classes (26 for A-Z)\n",
    "        \n",
    "    Returns:\n",
    "        tensorflow.keras.Model: Compiled CNN model\n",
    "    \"\"\"\n",
    "    model = Sequential([\n",
    "        Conv2D(32, (3, 3), activation='relu', input_shape=input_shape),\n",
    "        MaxPooling2D((2, 2)),\n",
    "        Dropout(0.2),\n",
    "\n",
    "        Conv2D(64, (3, 3), activation='relu'),\n",
    "        MaxPooling2D((2, 2)),\n",
    "        Dropout(0.2),\n",
    "\n",
    "        Conv2D(128, (3, 3), activation='relu'),\n",
    "        MaxPooling2D((2, 2)),\n",
    "        Dropout(0.2),\n",
    "\n",
    "        Flatten(),\n",
    "        Dense(128, activation='relu'),\n",
    "        Dropout(0.5),\n",
    "        Dense(num_classes, activation='softmax')\n",
    "    ])\n",
    "\n",
    "    model.compile(\n",
    "        optimizer=Adam(learning_rate=0.001),\n",
    "        loss='categorical_crossentropy',\n",
    "        metrics=['accuracy']\n",
    "    )\n",
    "    \n",
    "    return model"
   ]
  },
  {
   "cell_type": "markdown",
   "id": "6f55be88",
   "metadata": {},
   "source": [
    "## Load Preprocessed Data\n",
    "\n",
    "This function loads the preprocessed dataset and prepares the data generators for training and validation."
   ]
  },
  {
   "cell_type": "code",
   "execution_count": null,
   "id": "4e892050",
   "metadata": {},
   "outputs": [],
   "source": [
    "def load_preprocessed_data(data_dir):\n",
    "    \"\"\"\n",
    "    Load preprocessed dataset for training.\n",
    "    \n",
    "    Args:\n",
    "        data_dir (str): Path to the dataset directory\n",
    "        \n",
    "    Returns:\n",
    "        tuple: (train_generator, val_generator) - Data generators for training and validation\n",
    "    \"\"\"\n",
    "    train_generator, val_generator = prepare_data_generators(data_dir)\n",
    "    print(\"Data generators ready for training.\")\n",
    "    print(f\"Training samples: {train_generator.samples}\")\n",
    "    print(f\"Validation samples: {val_generator.samples}\")\n",
    "    print(f\"Number of classes: {train_generator.num_classes}\")\n",
    "    return train_generator, val_generator"
   ]
  },
  {
   "cell_type": "markdown",
   "id": "279af97e",
   "metadata": {},
   "source": [
    "## Train the Model\n",
    "\n",
    "This function trains the CNN model using the prepared data generators and returns the training history for analysis."
   ]
  },
  {
   "cell_type": "code",
   "execution_count": null,
   "id": "30362f09",
   "metadata": {},
   "outputs": [],
   "source": [
    "def train_model(model, train_generator, val_generator, epochs=10):\n",
    "    \"\"\"\n",
    "    Train the CNN model.\n",
    "    \n",
    "    Args:\n",
    "        model: The CNN model to train\n",
    "        train_generator: Training data generator\n",
    "        val_generator: Validation data generator\n",
    "        epochs (int): Number of training epochs\n",
    "        \n",
    "    Returns:\n",
    "        History: Training history object containing loss and accuracy metrics\n",
    "    \"\"\"\n",
    "    print(f\"Starting training for {epochs} epochs...\")\n",
    "    \n",
    "    history = model.fit(\n",
    "        train_generator,\n",
    "        validation_data=val_generator,\n",
    "        epochs=epochs,\n",
    "        verbose=1\n",
    "    )\n",
    "    \n",
    "    print(\"Training completed!\")\n",
    "    return history"
   ]
  },
  {
   "cell_type": "markdown",
   "id": "03cd2811",
   "metadata": {},
   "source": [
    "## Save the Trained Model\n",
    "\n",
    "This function saves the trained model to the specified path for later use in inference and real-time detection."
   ]
  },
  {
   "cell_type": "code",
   "execution_count": null,
   "id": "9b2e37f8",
   "metadata": {},
   "outputs": [],
   "source": [
    "def save_model(model, model_path):\n",
    "    \"\"\"\n",
    "    Save the trained model to a specified path.\n",
    "    \n",
    "    Args:\n",
    "        model: The trained CNN model\n",
    "        model_path (str): Path where the model should be saved\n",
    "    \"\"\"\n",
    "    model.save(model_path)\n",
    "    print(f\"Model saved successfully to: {model_path}\")\n",
    "    \n",
    "    # Also save model summary\n",
    "    model_summary_path = model_path.replace('.h5', '_summary.txt')\n",
    "    with open(model_summary_path, 'w') as f:\n",
    "        model.summary(print_fn=lambda x: f.write(x + '\\n'))\n",
    "    print(f\"Model summary saved to: {model_summary_path}\")"
   ]
  },
  {
   "cell_type": "markdown",
   "id": "2b7bca37",
   "metadata": {},
   "source": [
    "## Complete Training Pipeline Example\n",
    "\n",
    "This cell demonstrates how to use all the functions together to train a complete ASL detection model."
   ]
  },
  {
   "cell_type": "code",
   "execution_count": null,
   "id": "09f27583",
   "metadata": {},
   "outputs": [],
   "source": [
    "# Example: Complete Training Pipeline\n",
    "\n",
    "# Configuration\n",
    "DATA_DIR = \"../data/asl_alphabet_train/asl_alphabet_train\"  # Path to your dataset\n",
    "MODEL_SAVE_PATH = \"../models/asl_cnn_model.h5\"\n",
    "EPOCHS = 20\n",
    "\n",
    "# Step 1: Load the data\n",
    "data_generators = prepare_data_generators(DATA_DIR)\n",
    "train_generator, val_generator = data_generators\n",
    "\n",
    "# Step 2: Create the model\n",
    "model = create_cnn_model(input_shape=(224, 224, 3), num_classes=train_generator.num_classes)\n",
    "\n",
    "# Step 3: Display model architecture\n",
    "model.summary()\n",
    "\n",
    "# Step 4: Train the model\n",
    "history = train_model(model, train_generator, val_generator, epochs=EPOCHS)\n",
    "\n",
    "# Step 5: Save the trained model\n",
    "save_model(model, MODEL_SAVE_PATH)\n",
    "\n",
    "print(\"Training pipeline completed successfully!\")"
   ]
  }
 ],
 "metadata": {
  "kernelspec": {
   "display_name": "base",
   "language": "python",
   "name": "python3"
  },
  "language_info": {
   "name": "python",
   "version": "3.12.7"
  }
 },
 "nbformat": 4,
 "nbformat_minor": 5
}
